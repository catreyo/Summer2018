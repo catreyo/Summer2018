{
 "cells": [
  {
   "cell_type": "code",
   "execution_count": 3,
   "metadata": {},
   "outputs": [
    {
     "name": "stdout",
     "output_type": "stream",
     "text": [
      "\n",
      "m1\n",
      "[[1.307059  2.7176683 1.162326 ]\n",
      " [1.0921601 2.8759286 0.8538213]]\n",
      "\n",
      "b1\n",
      "[-1.518447  -4.130479  -1.1108217]\n",
      "\n",
      "m2\n",
      "[[ 0.94382256]\n",
      " [ 6.544193  ]\n",
      " [-4.0575128 ]]\n",
      "\n",
      "b2\n",
      "[-2.4880152]\n",
      "\n",
      "y_out\n",
      "[[0.00673931]\n",
      " [0.9566839 ]\n",
      " [0.03164419]\n",
      " [0.03055568]]\n",
      "\n",
      "loss\n",
      "0.0038567092\n",
      "\n"
     ]
    }
   ],
   "source": [
    "### imports\n",
    "import tensorflow as tf\n",
    "\n",
    "### constant data\n",
    "x  = [[0.,0.],[1.,1.],[1.,0.],[0.,1.]]\n",
    "y_ = [[0.],[1.],[0.],[0.]]\n",
    "\n",
    "### induction\n",
    "# 1x2 input -> 2x3 hidden sigmoid -> 3x1 sigmoid output\n",
    "\n",
    "# Layer 0 = the 1x2 inputs\n",
    "x0 = tf.constant( x  , dtype=tf.float32 )\n",
    "y0 = tf.constant( y_ , dtype=tf.float32 )\n",
    "\n",
    "# Layer 1 = the 2x3 hidden sigmoid\n",
    "m1 = tf.Variable( tf.random_uniform( [2,3] , minval=0.1 , maxval=0.9 , dtype=tf.float32  ))\n",
    "b1 = tf.Variable( tf.random_uniform( [3]   , minval=0.1 , maxval=0.9 , dtype=tf.float32  ))\n",
    "h1 = tf.sigmoid( tf.matmul( x0,m1 ) + b1 )\n",
    "\n",
    "# Layer 1.1 (added by Atreyo)\n",
    "m1up = tf.Variable( tf.random_uniform( [3, 3] , minval=0.1 , maxval=0.9 , dtype=tf.float32  ))\n",
    "b1up = tf.Variable( tf.random_uniform( [3]   , minval=0.1 , maxval=0.9 , dtype=tf.float32  ))\n",
    "h1up = tf.sigmoid( tf.matmul( h1,m1up ) + b1up )\n",
    "\n",
    "# Layer 2 = the 3x1 sigmoid output\n",
    "m2 = tf.Variable( tf.random_uniform( [3,1] , minval=0.1 , maxval=0.9 , dtype=tf.float32  ))\n",
    "b2 = tf.Variable( tf.random_uniform( [1]   , minval=0.1 , maxval=0.9 , dtype=tf.float32  ))\n",
    "y_out = tf.sigmoid( tf.matmul( h1up,m2 ) + b2 )\n",
    "\n",
    "\n",
    "### loss\n",
    "# loss : sum of the squares of y0 - y_out\n",
    "loss = tf.reduce_sum( tf.square( y0 - y_out ) )\n",
    "\n",
    "# training step : gradient decent (1.0) to minimize loss\n",
    "train = tf.train.GradientDescentOptimizer(1.0).minimize(loss)\n",
    "\n",
    "\n",
    "### training\n",
    "# run 500 times using all the X and Y\n",
    "# print out the loss and any other interesting info\n",
    "with tf.Session() as sess:\n",
    "  sess.run( tf.global_variables_initializer() )\n",
    "  for step in range(500) :\n",
    "    sess.run(train)\n",
    "\n",
    "  results = sess.run([m1,b1,m2,b2,y_out,loss])\n",
    "  labels  = \"m1,b1,m2,b2,y_out,loss\".split(\",\")\n",
    "  for label,result in zip(*(labels,results)) :\n",
    "    print(\"\")\n",
    "    print(label)\n",
    "    print(result)\n",
    "\n",
    "print(\"\")"
   ]
  },
  {
   "cell_type": "code",
   "execution_count": null,
   "metadata": {},
   "outputs": [],
   "source": []
  }
 ],
 "metadata": {
  "kernelspec": {
   "display_name": "Python 3",
   "language": "python",
   "name": "python3"
  },
  "language_info": {
   "codemirror_mode": {
    "name": "ipython",
    "version": 3
   },
   "file_extension": ".py",
   "mimetype": "text/x-python",
   "name": "python",
   "nbconvert_exporter": "python",
   "pygments_lexer": "ipython3",
   "version": "3.6.5"
  }
 },
 "nbformat": 4,
 "nbformat_minor": 2
}
